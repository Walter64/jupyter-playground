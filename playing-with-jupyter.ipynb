{
 "cells": [
  {
   "cell_type": "code",
   "execution_count": 1,
   "id": "7157a13c-197b-47d5-b6cb-306719e0f97a",
   "metadata": {},
   "outputs": [],
   "source": [
    "i = 1;\n",
    "j = 2;\n",
    "k = i + j;"
   ]
  },
  {
   "cell_type": "code",
   "execution_count": 2,
   "id": "4f5bd014-3be3-4b05-b9ae-d36a97ac6073",
   "metadata": {},
   "outputs": [
    {
     "data": {
      "text/plain": [
       "3"
      ]
     },
     "execution_count": 2,
     "metadata": {},
     "output_type": "execute_result"
    }
   ],
   "source": [
    "k"
   ]
  },
  {
   "cell_type": "markdown",
   "id": "1ee916d5-0d44-4393-80e8-9e7d60265fad",
   "metadata": {},
   "source": [
    "# This is Markdown Heading\n",
    "\n",
    "***Bold text**\n",
    "\n",
    "-List 1\n",
    "-List 2\n",
    "-List 3\n",
    "\n",
    "![](https://www.gmit.ie/sites/default/files/public/styles/advert/public/images/home/feature-box-springboard.jpg?itok=awsAFrjx)"
   ]
  },
  {
   "cell_type": "markdown",
   "id": "e3bbd4de-098e-4d46-866d-35d97e0ff773",
   "metadata": {},
   "source": [
    "# New Markdown Heading\n",
    "\n",
    "**Bold text**\n",
    "- List 1\n",
    "- List 2\n",
    "- List 3\n",
    "\n",
    "![](https://www.gmit.ie/sites/default/files/public/styles/advert/public/images/home/feature-box-springboard.jpg?itok=awsAFrjx)"
   ]
  },
  {
   "cell_type": "code",
   "execution_count": null,
   "id": "c5c49d8f-4ae5-4261-ab81-a2056202393c",
   "metadata": {},
   "outputs": [],
   "source": []
  }
 ],
 "metadata": {
  "kernelspec": {
   "display_name": "Python 3",
   "language": "python",
   "name": "python3"
  },
  "language_info": {
   "codemirror_mode": {
    "name": "ipython",
    "version": 3
   },
   "file_extension": ".py",
   "mimetype": "text/x-python",
   "name": "python",
   "nbconvert_exporter": "python",
   "pygments_lexer": "ipython3",
   "version": "3.8.8"
  }
 },
 "nbformat": 4,
 "nbformat_minor": 5
}
